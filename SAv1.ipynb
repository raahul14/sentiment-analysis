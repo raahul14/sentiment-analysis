{
 "cells": [
  {
   "cell_type": "code",
   "execution_count": 1,
   "metadata": {},
   "outputs": [],
   "source": [
    "import pandas as pd\n",
    "import numpy as np\n",
    "\n",
    "from sklearn.feature_extraction.text import TfidfVectorizer\n",
    "\n",
    "import time\n",
    "from sklearn import svm\n",
    "from sklearn.metrics import classification_report\n",
    "\n"
   ]
  },
  {
   "cell_type": "code",
   "execution_count": 18,
   "metadata": {},
   "outputs": [],
   "source": [
    "# train Data\n",
    "trainData = pd.read_csv(\"C:\\\\Users\\\\rahul\\\\Cognac\\\\CodeSwitching\\\\baroi2020\\\\SemEval2020-Task9\\\\Fully Processed Datasets\\\\FinalTrainingOnly.tsv\",delimiter=\"\\t\", names = ['id','text','tag'])\n",
    "\n",
    "# test Data\n",
    "testData = pd.read_csv(\"C:\\\\Users\\\\rahul\\\\Cognac\\\\CodeSwitching\\\\baroi2020\\\\SemEval2020-Task9\\\\Fully Processed Datasets\\\\FinalTest.tsv\",delimiter=\"\\t\", names = ['id','text'])\n"
   ]
  },
  {
   "cell_type": "code",
   "execution_count": 19,
   "metadata": {},
   "outputs": [],
   "source": [
    "def clean_dataset(df):\n",
    "    assert isinstance(df, pd.DataFrame), \"df needs to be a pd.DataFrame\"\n",
    "    df.dropna(inplace=True)\n",
    "    indices_to_keep = ~df.isin([np.nan, np.inf, -np.inf]).any(1)\n",
    "    return df[indices_to_keep]"
   ]
  },
  {
   "cell_type": "code",
   "execution_count": 20,
   "metadata": {},
   "outputs": [],
   "source": [
    "trainData = clean_dataset(trainData)"
   ]
  },
  {
   "cell_type": "code",
   "execution_count": 21,
   "metadata": {},
   "outputs": [],
   "source": [
    "testData = clean_dataset(testData)"
   ]
  },
  {
   "cell_type": "code",
   "execution_count": 22,
   "metadata": {},
   "outputs": [
    {
     "data": {
      "text/plain": [
       "0        pakistan ka ghra tauq pakistan israel ko tasle...\n",
       "1        madarchod mull ye mathura nahi dikha tha jab m...\n",
       "2        manya pradhan mantri mahoday shriman narendra ...\n",
       "3                  krishna jcb full trend chal rahi aa nan\n",
       "4        loksabha janta sirf modi ko vote de rahi thi n...\n",
       "                               ...                        \n",
       "14589    shame shame na kro yeh narendra modi third chi...\n",
       "14590    hariom bijli mantri peopl dont pay bill kashmi...\n",
       "14591                       bjp musalman ke naam pe kalank\n",
       "14592    mishra phir bjp ke leader vika ke bare kyon ni...\n",
       "14593      iss ko wale doglepan alawa kuch bhi nahi kareng\n",
       "Name: text, Length: 14569, dtype: object"
      ]
     },
     "execution_count": 22,
     "metadata": {},
     "output_type": "execute_result"
    }
   ],
   "source": [
    "trainData['text']"
   ]
  },
  {
   "cell_type": "code",
   "execution_count": 23,
   "metadata": {},
   "outputs": [
    {
     "data": {
      "text/plain": [
       "0                agr kse ko itni importantc chaeay ni tou\n",
       "1       logon ko alloo pyaz tomat toh allah pak ka naa...\n",
       "2       wafadaar bane rahan ka nayab tarika hai lamba ...\n",
       "3       chup bhosdik exoner charg tum log ghanta prove...\n",
       "4       prais great giver give susten paid obeis gurud...\n",
       "                              ...                        \n",
       "2995    yogesh22 haha jai ho bhul gye haha ham fan raa...\n",
       "2996    da realest thank put track ca n't wait next on...\n",
       "2997    khan241 fahad bhaiiiii give us bilal abba ca n...\n",
       "2998                  tbh bad side say bad 's horribl bad\n",
       "2999          chutiya h madarchod sabs harami h ye thuk k\n",
       "Name: text, Length: 2997, dtype: object"
      ]
     },
     "execution_count": 23,
     "metadata": {},
     "output_type": "execute_result"
    }
   ],
   "source": [
    "testData['text']"
   ]
  },
  {
   "cell_type": "code",
   "execution_count": 24,
   "metadata": {},
   "outputs": [],
   "source": [
    "# Create feature vectors\n",
    "vectorizer = TfidfVectorizer(min_df = 5,\n",
    "                             max_df = 0.8,\n",
    "                             sublinear_tf = True,\n",
    "                             use_idf = True)\n",
    "\n",
    "train_vectors = vectorizer.fit_transform(trainData['text'])\n",
    "test_vectors = vectorizer.transform(testData['text'])"
   ]
  },
  {
   "cell_type": "code",
   "execution_count": 25,
   "metadata": {},
   "outputs": [
    {
     "data": {
      "text/plain": [
       "array(['pakistan ka ghra tauq pakistan israel ko tasleem nahein kerta isko palestin kehta - occupi palestin nan',\n",
       "       'madarchod mull ye mathura nahi dikha tha jab mullo ne hindu ko iss liy mara ki vo lass ki pais mag liy',\n",
       "       'manya pradhan mantri mahoday shriman narendra modi ji pradhanmantri bann par hardik badhai tahe dil',\n",
       "       ..., 'bjp musalman ke naam pe kalank',\n",
       "       'mishra phir bjp ke leader vika ke bare kyon ni batat unh sirf bhart mata ki jai kaht pirt hai',\n",
       "       'iss ko wale doglepan alawa kuch bhi nahi kareng'], dtype=object)"
      ]
     },
     "execution_count": 25,
     "metadata": {},
     "output_type": "execute_result"
    }
   ],
   "source": [
    "x = trainData['text'].astype('U').values\n",
    "x"
   ]
  },
  {
   "cell_type": "code",
   "execution_count": 26,
   "metadata": {},
   "outputs": [],
   "source": [
    "# Perform classification with SVM, kernel=linear\n",
    "classifier_linear = svm.SVC(kernel='linear')\n",
    "t0 = time.time()\n",
    "classifier_linear.fit(train_vectors, trainData['text'])\n",
    "t1 = time.time()"
   ]
  },
  {
   "cell_type": "code",
   "execution_count": null,
   "metadata": {},
   "outputs": [],
   "source": [
    "\n",
    "prediction_linear = classifier_linear.predict(test_vectors)\n",
    "t2 = time.time()\n",
    "time_linear_train = t1-t0\n",
    "time_linear_predict = t2-t1\n",
    "\n"
   ]
  },
  {
   "cell_type": "code",
   "execution_count": null,
   "metadata": {},
   "outputs": [],
   "source": [
    "# results\n",
    "print(\"Results for SVC(kernel=linear)\")\n",
    "print(\"Training time: %fs; Prediction time: %fs\" % (time_linear_train, time_linear_predict))\n",
    "report = classification_report(testData['Label'], prediction_linear, output_dict=True)\n",
    "print('positive: ', report['pos'])\n",
    "print('negative: ', report['neg'])"
   ]
  },
  {
   "cell_type": "code",
   "execution_count": null,
   "metadata": {},
   "outputs": [],
   "source": [
    "result = classifier.predict('happy')"
   ]
  },
  {
   "cell_type": "code",
   "execution_count": null,
   "metadata": {},
   "outputs": [],
   "source": []
  }
 ],
 "metadata": {
  "kernelspec": {
   "display_name": "Python 3",
   "language": "python",
   "name": "python3"
  },
  "language_info": {
   "codemirror_mode": {
    "name": "ipython",
    "version": 3
   },
   "file_extension": ".py",
   "mimetype": "text/x-python",
   "name": "python",
   "nbconvert_exporter": "python",
   "pygments_lexer": "ipython3",
   "version": "3.7.6"
  }
 },
 "nbformat": 4,
 "nbformat_minor": 4
}
