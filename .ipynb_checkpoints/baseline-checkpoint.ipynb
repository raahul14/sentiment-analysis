{
 "cells": [
  {
   "cell_type": "code",
   "execution_count": 2,
   "metadata": {},
   "outputs": [],
   "source": [
    "import pandas as pd\n",
    "import numpy as np\n",
    "\n",
    "from sklearn.feature_extraction.text import TfidfVectorizer\n",
    "\n",
    "import time\n",
    "from sklearn import svm\n",
    "from sklearn.metrics import classification_report\n",
    "# Import train_test_split function\n",
    "from sklearn.model_selection import train_test_split\n",
    "\n"
   ]
  },
  {
   "cell_type": "code",
   "execution_count": 3,
   "metadata": {},
   "outputs": [],
   "source": [
    "# train Data\n",
    "data = pd.read_csv(\"C:\\\\Users\\\\rahul\\\\Cognac\\\\CodeSwitching\\\\baroi2020\\\\SemEval2020-Task9\\\\Fully Processed Datasets\\\\FinalTrainingOnly.tsv\",delimiter=\"\\t\", names = ['id','text','tag'])\n",
    "\n",
    "# test Data\n",
    "# testData = pd.read_csv(\"C:\\\\Users\\\\rahul\\\\Cognac\\\\CodeSwitching\\\\baroi2020\\\\SemEval2020-Task9\\\\Fully Processed Datasets\\\\FinalTest.tsv\",delimiter=\"\\t\", names = ['id','text'])\n"
   ]
  },
  {
   "cell_type": "code",
   "execution_count": 4,
   "metadata": {},
   "outputs": [],
   "source": [
    "def clean_dataset(df):\n",
    "    assert isinstance(df, pd.DataFrame), \"df needs to be a pd.DataFrame\"\n",
    "    df.dropna(inplace=True)\n",
    "    indices_to_keep = ~df.isin([np.nan, np.inf, -np.inf]).any(1)\n",
    "    return df[indices_to_keep]"
   ]
  },
  {
   "cell_type": "code",
   "execution_count": 5,
   "metadata": {},
   "outputs": [],
   "source": [
    "data = clean_dataset(data)"
   ]
  },
  {
   "cell_type": "code",
   "execution_count": 9,
   "metadata": {},
   "outputs": [],
   "source": [
    "# Create feature vectors\n",
    "vectorizer = TfidfVectorizer(min_df = 5,\n",
    "                             max_df = 0.8,\n",
    "                             sublinear_tf = True,\n",
    "                             use_idf = True)\n",
    "\n",
    "vectors = vectorizer.fit_transform(data['text'][0:100])"
   ]
  },
  {
   "cell_type": "code",
   "execution_count": 10,
   "metadata": {},
   "outputs": [],
   "source": [
    "# Split dataset into training set and test set\n",
    "X_train, X_test, y_train, y_test = train_test_split(vectors, data.tag[0:100], test_size=0.3,random_state=109) # 70% training and 30% test"
   ]
  },
  {
   "cell_type": "code",
   "execution_count": 11,
   "metadata": {},
   "outputs": [],
   "source": [
    "# Perform classification with SVM, kernel=linear\n",
    "classifier_linear = svm.SVC(kernel='linear')\n",
    "t0 = time.time()\n",
    "classifier_linear.fit(X_train, y_train)\n",
    "t1 = time.time()\n",
    "prediction_linear = classifier_linear.predict(X_test)\n",
    "t2 = time.time()\n",
    "time_linear_train = t1-t0\n",
    "time_linear_predict = t2-t1"
   ]
  },
  {
   "cell_type": "code",
   "execution_count": 13,
   "metadata": {},
   "outputs": [
    {
     "name": "stdout",
     "output_type": "stream",
     "text": [
      "Results for SVC(kernel=linear)\n",
      "Training time: 0.034943s; Prediction time: 0.000998s\n"
     ]
    },
    {
     "data": {
      "text/plain": [
       "{'0': {'precision': 0.3333333333333333,\n",
       "  'recall': 0.42857142857142855,\n",
       "  'f1-score': 0.375,\n",
       "  'support': 7},\n",
       " '1': {'precision': 0.6,\n",
       "  'recall': 0.15789473684210525,\n",
       "  'f1-score': 0.25,\n",
       "  'support': 19},\n",
       " '2': {'precision': 0.1875, 'recall': 0.75, 'f1-score': 0.3, 'support': 4},\n",
       " 'accuracy': 0.3,\n",
       " 'macro avg': {'precision': 0.3736111111111111,\n",
       "  'recall': 0.4454887218045112,\n",
       "  'f1-score': 0.30833333333333335,\n",
       "  'support': 30},\n",
       " 'weighted avg': {'precision': 0.4827777777777778,\n",
       "  'recall': 0.3,\n",
       "  'f1-score': 0.28583333333333333,\n",
       "  'support': 30}}"
      ]
     },
     "execution_count": 13,
     "metadata": {},
     "output_type": "execute_result"
    }
   ],
   "source": [
    "# results\n",
    "print(\"Results for SVC(kernel=linear)\")\n",
    "print(\"Training time: %fs; Prediction time: %fs\" % (time_linear_train, time_linear_predict))\n",
    "report = classification_report(y_test, prediction_linear, output_dict=True)\n",
    "report"
   ]
  },
  {
   "cell_type": "code",
   "execution_count": null,
   "metadata": {},
   "outputs": [],
   "source": []
  }
 ],
 "metadata": {
  "kernelspec": {
   "display_name": "Python 3",
   "language": "python",
   "name": "python3"
  },
  "language_info": {
   "codemirror_mode": {
    "name": "ipython",
    "version": 3
   },
   "file_extension": ".py",
   "mimetype": "text/x-python",
   "name": "python",
   "nbconvert_exporter": "python",
   "pygments_lexer": "ipython3",
   "version": "3.7.6"
  }
 },
 "nbformat": 4,
 "nbformat_minor": 4
}
